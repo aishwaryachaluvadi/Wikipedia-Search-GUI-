{
 "cells": [
  {
   "cell_type": "code",
   "execution_count": null,
   "id": "fb17577a",
   "metadata": {},
   "outputs": [],
   "source": [
    "!pip install wikipedia"
   ]
  },
  {
   "cell_type": "code",
   "execution_count": null,
   "id": "cfd84084",
   "metadata": {},
   "outputs": [],
   "source": [
    "!pip install python-docx"
   ]
  },
  {
   "cell_type": "code",
   "execution_count": null,
   "id": "b46cdced",
   "metadata": {},
   "outputs": [],
   "source": [
    "from tkinter import *\n",
    "from tkinter import messagebox\n",
    "import wikipedia as wiki\n",
    "import os\n",
    "master=Tk()\n",
    "master.title(\"Wiki Search\")\n",
    "master.geometry(\"1000x800\")\n",
    "font_format=(\"Arial\",25,\"bold\")\n",
    "\n",
    "\n",
    "def search():\n",
    "    a=wiki.summary(entry.get())\n",
    "    with open(\"worddoc.txt\",\"w\") as file:\n",
    "        file.write(a)\n",
    "    \n",
    "    \n",
    "def op():\n",
    "   os.system(\"worddoc.txt\")\n",
    "\n",
    "\n",
    "label1=Label(master, text=\"WIKI SEARCH\", padx=20, pady=20, font=font_format, bg=\"white\", fg=\"black\")\n",
    "label1.grid(row=0, column=0)\n",
    "\n",
    "label2=Label(master, text=\"Enter the Keyword\", padx=20, pady=20, font=font_format, bg=\"white\", fg=\"black\")\n",
    "label2.grid(row=1, column=0)\n",
    "\n",
    "entry=Entry(master, font=font_format, bg=\"white\", fg=\"black\")\n",
    "entry.grid(row=1, column=1)\n",
    "\n",
    "text=Text(master)\n",
    "text.grid(row=3, column=0)\n",
    "\n",
    "button1=Button(master, text=\"Search and Save\", command=search, font=font_format, bg=\"white\", fg=\"black\")\n",
    "button1.grid(row=2, column=1)\n",
    "\n",
    "button2=Button(master, text=\"Open\", command=op, font=font_format2, bg=\"red\", fg=\"black\" )\n",
    "button2.grid(row=2, column=2)\n",
    "\n",
    "\n",
    "\n",
    "master.mainloop()\n"
   ]
  },
  {
   "cell_type": "code",
   "execution_count": null,
   "id": "ccee0a5d",
   "metadata": {},
   "outputs": [],
   "source": []
  }
 ],
 "metadata": {
  "kernelspec": {
   "display_name": "Python 3",
   "language": "python",
   "name": "python3"
  },
  "language_info": {
   "codemirror_mode": {
    "name": "ipython",
    "version": 3
   },
   "file_extension": ".py",
   "mimetype": "text/x-python",
   "name": "python",
   "nbconvert_exporter": "python",
   "pygments_lexer": "ipython3",
   "version": "3.8.8"
  }
 },
 "nbformat": 4,
 "nbformat_minor": 5
}
